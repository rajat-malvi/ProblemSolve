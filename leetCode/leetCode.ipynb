{
  "nbformat": 4,
  "nbformat_minor": 0,
  "metadata": {
    "colab": {
      "provenance": [],
      "authorship_tag": "ABX9TyPkQd88WWR0/ONjZwDqm6aY",
      "include_colab_link": true
    },
    "kernelspec": {
      "name": "python3",
      "display_name": "Python 3"
    },
    "language_info": {
      "name": "python"
    }
  },
  "cells": [
    {
      "cell_type": "markdown",
      "metadata": {
        "id": "view-in-github",
        "colab_type": "text"
      },
      "source": [
        "<a href=\"https://colab.research.google.com/github/rajat-malvi/ProblemSolve/blob/main/leetCode/leetCode.ipynb\" target=\"_parent\"><img src=\"https://colab.research.google.com/assets/colab-badge.svg\" alt=\"Open In Colab\"/></a>"
      ]
    },
    {
      "cell_type": "code",
      "source": [
        "class Solution(object):\n",
        "    def nextPermutation(self, nums):\n",
        "        \"\"\"\n",
        "        :type nums: List[int]\n",
        "        :rtype: None Do not return anything, modify nums in-place instead.\n",
        "        \"\"\"\n",
        "        def bubbleSort(arr,s):\n",
        "            if s == -1:\n",
        "                s=0\n",
        "            if len(arr)==1:\n",
        "                return arr\n",
        "            for i in range(len(arr)):\n",
        "                isSorted = False\n",
        "                for j in range(s,len(arr)-i-1):\n",
        "                    if arr[j]>arr[j+1]:\n",
        "                        isSorted = True\n",
        "                        arr[j],arr[j+1]=arr[j+1],arr[j]\n",
        "\n",
        "                if isSorted==False:\n",
        "                    break\n",
        "\n",
        "            return arr\n",
        "\n",
        "        def pivort(arr):\n",
        "            for i in range(len(arr)-1,-1,-1):\n",
        "                if arr[i-1]<arr[i]:\n",
        "                    return i-1\n",
        "\n",
        "\n",
        "        pivortIdx = pivort(nums)\n",
        "        if pivortIdx==None:\n",
        "            pivortIdx=0\n",
        "        nums = bubbleSort(nums,pivortIdx+1)\n",
        "        # print(sortedArray)\n",
        "\n",
        "        for i in range(pivortIdx+1,len(nums)):\n",
        "            if nums[pivortIdx]<nums[i]:\n",
        "                nums[pivortIdx],nums[i]= nums[i],nums[pivortIdx]\n",
        "                break\n",
        "        return nums"
      ],
      "metadata": {
        "id": "Lx5M9JEypZM0"
      },
      "execution_count": null,
      "outputs": []
    },
    {
      "cell_type": "code",
      "source": [
        "class Solution(object):\n",
        "    def twoSum(self, nums, target):\n",
        "        \"\"\"\n",
        "        :type nums: List[int]\n",
        "        :type target: int\n",
        "        :rtype: List[int]\n",
        "        \"\"\"\n",
        "        arr=[]\n",
        "        for i in range(len(nums)):\n",
        "            for j in range(i+1,len(nums)):\n",
        "                if target==(nums[i]+nums[j]):\n",
        "                    arr.append(i)\n",
        "                    arr.append(j)\n",
        "        return arr"
      ],
      "metadata": {
        "id": "zQi1j0VV4ciI"
      },
      "execution_count": null,
      "outputs": []
    },
    {
      "cell_type": "code",
      "execution_count": null,
      "metadata": {
        "id": "aIQfukH6yvN5"
      },
      "outputs": [],
      "source": [
        "class Solution(object):\n",
        "    def findMedianSortedArrays(self, nums1, nums2):\n",
        "        \"\"\"\n",
        "        :type nums1: List[int]\n",
        "        :type nums2: List[int]\n",
        "        :rtype: float\n",
        "        \"\"\"\n",
        "        iter1=0\n",
        "        iter2=0\n",
        "        newlist=[]\n",
        "        while iter1<len(nums1) and iter2<len(nums2):\n",
        "            if nums1[iter1]<nums2[iter2]:\n",
        "                newlist.append(nums1[iter1])\n",
        "                iter1+=1\n",
        "            else:\n",
        "                newlist.append(nums2[iter2])\n",
        "                iter2+=1\n",
        "\n",
        "        while iter1<len(nums1):\n",
        "            newlist.append(nums1[iter1])\n",
        "            iter1+=1\n",
        "\n",
        "        while iter2<len(nums2):\n",
        "            newlist.append(nums2[iter2])\n",
        "            iter2+=1\n",
        "\n",
        "        if len(newlist)%2==0:\n",
        "            return (newlist[len(newlist)//2] + newlist[(len(newlist)//2)-1])*0.5\n",
        "        return newlist[len(newlist)//2]\n"
      ]
    },
    {
      "cell_type": "code",
      "source": [],
      "metadata": {
        "id": "93-I_g8l3xo5"
      },
      "execution_count": null,
      "outputs": []
    }
  ]
}